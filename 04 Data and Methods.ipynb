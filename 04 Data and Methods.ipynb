{
 "metadata": {
  "name": "",
  "signature": "sha256:2f3c9d3991941e5e8d4872048b870ff760b8925068ba8a4fdad38ef0b2fd88ee"
 },
 "nbformat": 3,
 "nbformat_minor": 0,
 "worksheets": [
  {
   "cells": [
    {
     "cell_type": "code",
     "collapsed": false,
     "input": [
      "import pandas as pd\n",
      "pd.options.display.max_rows = 8\n",
      "%matplotlib inline"
     ],
     "language": "python",
     "metadata": {},
     "outputs": [],
     "prompt_number": 1
    },
    {
     "cell_type": "markdown",
     "metadata": {},
     "source": [
      "You can get the type of some python variables using the type method"
     ]
    },
    {
     "cell_type": "code",
     "collapsed": false,
     "input": [
      "x = 1\n",
      "print(type(x))"
     ],
     "language": "python",
     "metadata": {},
     "outputs": [
      {
       "output_type": "stream",
       "stream": "stdout",
       "text": [
        "<type 'int'>\n"
       ]
      }
     ],
     "prompt_number": 2
    },
    {
     "cell_type": "code",
     "collapsed": false,
     "input": [
      "y = 'Eric'\n",
      "print(type(y))"
     ],
     "language": "python",
     "metadata": {},
     "outputs": [
      {
       "output_type": "stream",
       "stream": "stdout",
       "text": [
        "<type 'str'>\n"
       ]
      }
     ],
     "prompt_number": 3
    },
    {
     "cell_type": "code",
     "collapsed": false,
     "input": [
      "z = True\n",
      "print(type(z))"
     ],
     "language": "python",
     "metadata": {},
     "outputs": [
      {
       "output_type": "stream",
       "stream": "stdout",
       "text": [
        "<type 'bool'>\n"
       ]
      }
     ],
     "prompt_number": 4
    },
    {
     "cell_type": "code",
     "collapsed": false,
     "input": [
      "l = [1, 2, 3]\n",
      "print(type(l))"
     ],
     "language": "python",
     "metadata": {},
     "outputs": [
      {
       "output_type": "stream",
       "stream": "stdout",
       "text": [
        "<type 'list'>\n"
       ]
      }
     ],
     "prompt_number": 47
    },
    {
     "cell_type": "markdown",
     "metadata": {},
     "source": [
      "TODO: %s/method/function/g"
     ]
    },
    {
     "cell_type": "markdown",
     "metadata": {},
     "source": [
      "We can also define our own methods. This is good practice because it makes the programmer's job easier and the resulting program less error-prone."
     ]
    },
    {
     "cell_type": "markdown",
     "metadata": {},
     "source": [
      "TODO: mention casting"
     ]
    },
    {
     "cell_type": "code",
     "collapsed": false,
     "input": [
      "def print_type(var):\n",
      "    print(str(var) + ' is type' + str(type(var)))"
     ],
     "language": "python",
     "metadata": {},
     "outputs": [],
     "prompt_number": 48
    },
    {
     "cell_type": "markdown",
     "metadata": {},
     "source": [
      "Where:\n",
      "- `def` is the keyword for defining a method\n",
      "- `print_type` is the method\n",
      "- `var` is the *argument*\n",
      "\n",
      "Now we can call our method just like we would any other python method:"
     ]
    },
    {
     "cell_type": "code",
     "collapsed": false,
     "input": [
      "for var in [x,y,z,l]:\n",
      "    print_type(var)"
     ],
     "language": "python",
     "metadata": {},
     "outputs": [
      {
       "output_type": "stream",
       "stream": "stdout",
       "text": [
        "1 is type<type 'int'>\n",
        "Eric is type<type 'str'>\n",
        "True is type<type 'bool'>\n",
        "[1, 2, 3] is type<type 'list'>\n"
       ]
      }
     ],
     "prompt_number": 7
    },
    {
     "cell_type": "markdown",
     "metadata": {},
     "source": [
      "TODO: return value"
     ]
    },
    {
     "cell_type": "markdown",
     "metadata": {},
     "source": [
      "What about the data we read from our csv file?"
     ]
    },
    {
     "cell_type": "code",
     "collapsed": false,
     "input": [
      "df = pd.read_csv('Current_Employee_Names__Salaries__and_Position_Titles.csv')\n",
      "df"
     ],
     "language": "python",
     "metadata": {},
     "outputs": [
      {
       "html": [
        "<div style=\"max-width:1500px;overflow:auto;\">\n",
        "<table border=\"1\" class=\"dataframe\">\n",
        "  <thead>\n",
        "    <tr style=\"text-align: right;\">\n",
        "      <th></th>\n",
        "      <th>Name</th>\n",
        "      <th>Position Title</th>\n",
        "      <th>Department</th>\n",
        "      <th>Employee Annual Salary</th>\n",
        "    </tr>\n",
        "  </thead>\n",
        "  <tbody>\n",
        "    <tr>\n",
        "      <th>0</th>\n",
        "      <td>AARON,  ELVIA J</td>\n",
        "      <td>WATER RATE TAKER</td>\n",
        "      <td>WATER MGMNT</td>\n",
        "      <td>$88968.00</td>\n",
        "    </tr>\n",
        "    <tr>\n",
        "      <th>1</th>\n",
        "      <td>AARON,  JEFFERY M</td>\n",
        "      <td>POLICE OFFICER</td>\n",
        "      <td>POLICE</td>\n",
        "      <td>$80778.00</td>\n",
        "    </tr>\n",
        "    <tr>\n",
        "      <th>2</th>\n",
        "      <td>AARON,  KARINA</td>\n",
        "      <td>POLICE OFFICER</td>\n",
        "      <td>POLICE</td>\n",
        "      <td>$80778.00</td>\n",
        "    </tr>\n",
        "    <tr>\n",
        "      <th>3</th>\n",
        "      <td>AARON,  KIMBERLEI R</td>\n",
        "      <td>CHIEF CONTRACT EXPEDITER</td>\n",
        "      <td>GENERAL SERVICES</td>\n",
        "      <td>$84780.00</td>\n",
        "    </tr>\n",
        "    <tr>\n",
        "      <th>...</th>\n",
        "      <td>...</td>\n",
        "      <td>...</td>\n",
        "      <td>...</td>\n",
        "      <td>...</td>\n",
        "    </tr>\n",
        "    <tr>\n",
        "      <th>32178</th>\n",
        "      <td>ZYMANTAS,  MARK E</td>\n",
        "      <td>POLICE OFFICER</td>\n",
        "      <td>POLICE</td>\n",
        "      <td>$83616.00</td>\n",
        "    </tr>\n",
        "    <tr>\n",
        "      <th>32179</th>\n",
        "      <td>ZYRKOWSKI,  CARLO E</td>\n",
        "      <td>POLICE OFFICER</td>\n",
        "      <td>POLICE</td>\n",
        "      <td>$86520.00</td>\n",
        "    </tr>\n",
        "    <tr>\n",
        "      <th>32180</th>\n",
        "      <td>ZYSKOWSKI,  DARIUSZ</td>\n",
        "      <td>CHIEF DATA BASE ANALYST</td>\n",
        "      <td>DoIT</td>\n",
        "      <td>$110352.00</td>\n",
        "    </tr>\n",
        "    <tr>\n",
        "      <th>32181</th>\n",
        "      <td>NaN</td>\n",
        "      <td>NaN</td>\n",
        "      <td>NaN</td>\n",
        "      <td>NaN</td>\n",
        "    </tr>\n",
        "  </tbody>\n",
        "</table>\n",
        "<p>32182 rows \u00d7 4 columns</p>\n",
        "</div>"
       ],
       "metadata": {},
       "output_type": "pyout",
       "prompt_number": 8,
       "text": [
        "                      Name            Position Title        Department  \\\n",
        "0          AARON,  ELVIA J          WATER RATE TAKER       WATER MGMNT   \n",
        "1        AARON,  JEFFERY M            POLICE OFFICER            POLICE   \n",
        "2           AARON,  KARINA            POLICE OFFICER            POLICE   \n",
        "3      AARON,  KIMBERLEI R  CHIEF CONTRACT EXPEDITER  GENERAL SERVICES   \n",
        "...                    ...                       ...               ...   \n",
        "32178    ZYMANTAS,  MARK E            POLICE OFFICER            POLICE   \n",
        "32179  ZYRKOWSKI,  CARLO E            POLICE OFFICER            POLICE   \n",
        "32180  ZYSKOWSKI,  DARIUSZ   CHIEF DATA BASE ANALYST              DoIT   \n",
        "32181                  NaN                       NaN               NaN   \n",
        "\n",
        "      Employee Annual Salary  \n",
        "0                  $88968.00  \n",
        "1                  $80778.00  \n",
        "2                  $80778.00  \n",
        "3                  $84780.00  \n",
        "...                      ...  \n",
        "32178              $83616.00  \n",
        "32179              $86520.00  \n",
        "32180             $110352.00  \n",
        "32181                    NaN  \n",
        "\n",
        "[32182 rows x 4 columns]"
       ]
      }
     ],
     "prompt_number": 8
    },
    {
     "cell_type": "code",
     "collapsed": false,
     "input": [
      "print(type(df))"
     ],
     "language": "python",
     "metadata": {},
     "outputs": [
      {
       "output_type": "stream",
       "stream": "stdout",
       "text": [
        "<class 'pandas.core.frame.DataFrame'>\n"
       ]
      }
     ],
     "prompt_number": 9
    },
    {
     "cell_type": "markdown",
     "metadata": {},
     "source": [
      "A \"kind\" of object (like `int` or `float` or `DataFrame`) is called a *class* or a *type*. An instance or example of a type (1, 'Eric', `df`) are called *objects*."
     ]
    },
    {
     "cell_type": "markdown",
     "metadata": {},
     "source": [
      "Objects have members, including data and methods."
     ]
    },
    {
     "cell_type": "code",
     "collapsed": false,
     "input": [
      "df.dropna(inplace=True)\n",
      "df"
     ],
     "language": "python",
     "metadata": {},
     "outputs": [
      {
       "html": [
        "<div style=\"max-width:1500px;overflow:auto;\">\n",
        "<table border=\"1\" class=\"dataframe\">\n",
        "  <thead>\n",
        "    <tr style=\"text-align: right;\">\n",
        "      <th></th>\n",
        "      <th>Name</th>\n",
        "      <th>Position Title</th>\n",
        "      <th>Department</th>\n",
        "      <th>Employee Annual Salary</th>\n",
        "    </tr>\n",
        "  </thead>\n",
        "  <tbody>\n",
        "    <tr>\n",
        "      <th>0</th>\n",
        "      <td>AARON,  ELVIA J</td>\n",
        "      <td>WATER RATE TAKER</td>\n",
        "      <td>WATER MGMNT</td>\n",
        "      <td>$88968.00</td>\n",
        "    </tr>\n",
        "    <tr>\n",
        "      <th>1</th>\n",
        "      <td>AARON,  JEFFERY M</td>\n",
        "      <td>POLICE OFFICER</td>\n",
        "      <td>POLICE</td>\n",
        "      <td>$80778.00</td>\n",
        "    </tr>\n",
        "    <tr>\n",
        "      <th>2</th>\n",
        "      <td>AARON,  KARINA</td>\n",
        "      <td>POLICE OFFICER</td>\n",
        "      <td>POLICE</td>\n",
        "      <td>$80778.00</td>\n",
        "    </tr>\n",
        "    <tr>\n",
        "      <th>3</th>\n",
        "      <td>AARON,  KIMBERLEI R</td>\n",
        "      <td>CHIEF CONTRACT EXPEDITER</td>\n",
        "      <td>GENERAL SERVICES</td>\n",
        "      <td>$84780.00</td>\n",
        "    </tr>\n",
        "    <tr>\n",
        "      <th>...</th>\n",
        "      <td>...</td>\n",
        "      <td>...</td>\n",
        "      <td>...</td>\n",
        "      <td>...</td>\n",
        "    </tr>\n",
        "    <tr>\n",
        "      <th>32177</th>\n",
        "      <td>ZYGOWICZ,  PETER J</td>\n",
        "      <td>POLICE OFFICER</td>\n",
        "      <td>POLICE</td>\n",
        "      <td>$86520.00</td>\n",
        "    </tr>\n",
        "    <tr>\n",
        "      <th>32178</th>\n",
        "      <td>ZYMANTAS,  MARK E</td>\n",
        "      <td>POLICE OFFICER</td>\n",
        "      <td>POLICE</td>\n",
        "      <td>$83616.00</td>\n",
        "    </tr>\n",
        "    <tr>\n",
        "      <th>32179</th>\n",
        "      <td>ZYRKOWSKI,  CARLO E</td>\n",
        "      <td>POLICE OFFICER</td>\n",
        "      <td>POLICE</td>\n",
        "      <td>$86520.00</td>\n",
        "    </tr>\n",
        "    <tr>\n",
        "      <th>32180</th>\n",
        "      <td>ZYSKOWSKI,  DARIUSZ</td>\n",
        "      <td>CHIEF DATA BASE ANALYST</td>\n",
        "      <td>DoIT</td>\n",
        "      <td>$110352.00</td>\n",
        "    </tr>\n",
        "  </tbody>\n",
        "</table>\n",
        "<p>32181 rows \u00d7 4 columns</p>\n",
        "</div>"
       ],
       "metadata": {},
       "output_type": "pyout",
       "prompt_number": 10,
       "text": [
        "                      Name            Position Title        Department  \\\n",
        "0          AARON,  ELVIA J          WATER RATE TAKER       WATER MGMNT   \n",
        "1        AARON,  JEFFERY M            POLICE OFFICER            POLICE   \n",
        "2           AARON,  KARINA            POLICE OFFICER            POLICE   \n",
        "3      AARON,  KIMBERLEI R  CHIEF CONTRACT EXPEDITER  GENERAL SERVICES   \n",
        "...                    ...                       ...               ...   \n",
        "32177   ZYGOWICZ,  PETER J            POLICE OFFICER            POLICE   \n",
        "32178    ZYMANTAS,  MARK E            POLICE OFFICER            POLICE   \n",
        "32179  ZYRKOWSKI,  CARLO E            POLICE OFFICER            POLICE   \n",
        "32180  ZYSKOWSKI,  DARIUSZ   CHIEF DATA BASE ANALYST              DoIT   \n",
        "\n",
        "      Employee Annual Salary  \n",
        "0                  $88968.00  \n",
        "1                  $80778.00  \n",
        "2                  $80778.00  \n",
        "3                  $84780.00  \n",
        "...                      ...  \n",
        "32177              $86520.00  \n",
        "32178              $83616.00  \n",
        "32179              $86520.00  \n",
        "32180             $110352.00  \n",
        "\n",
        "[32181 rows x 4 columns]"
       ]
      }
     ],
     "prompt_number": 10
    },
    {
     "cell_type": "markdown",
     "metadata": {},
     "source": [
      "For example DataFrames have a `sort_values` method:"
     ]
    },
    {
     "cell_type": "code",
     "collapsed": false,
     "input": [
      "df.sort_values(by='Department')"
     ],
     "language": "python",
     "metadata": {},
     "outputs": [
      {
       "html": [
        "<div style=\"max-width:1500px;overflow:auto;\">\n",
        "<table border=\"1\" class=\"dataframe\">\n",
        "  <thead>\n",
        "    <tr style=\"text-align: right;\">\n",
        "      <th></th>\n",
        "      <th>Name</th>\n",
        "      <th>Position Title</th>\n",
        "      <th>Department</th>\n",
        "      <th>Employee Annual Salary</th>\n",
        "    </tr>\n",
        "  </thead>\n",
        "  <tbody>\n",
        "    <tr>\n",
        "      <th>2812</th>\n",
        "      <td>BREWER,  JAMIE</td>\n",
        "      <td>ADMINISTRATIVE ASST II</td>\n",
        "      <td>ADMIN HEARNG</td>\n",
        "      <td>$63708.00</td>\n",
        "    </tr>\n",
        "    <tr>\n",
        "      <th>3019</th>\n",
        "      <td>BROWN,  ELOUISE V</td>\n",
        "      <td>ADMINISTRATIVE ASST II</td>\n",
        "      <td>ADMIN HEARNG</td>\n",
        "      <td>$66684.00</td>\n",
        "    </tr>\n",
        "    <tr>\n",
        "      <th>3338</th>\n",
        "      <td>BURAGE,  LORRIE A</td>\n",
        "      <td>CUSTOMER ACCOUNT REPRESENTATIVE</td>\n",
        "      <td>ADMIN HEARNG</td>\n",
        "      <td>$55428.00</td>\n",
        "    </tr>\n",
        "    <tr>\n",
        "      <th>4236</th>\n",
        "      <td>CASSELLA,  CATHERINE</td>\n",
        "      <td>ADMINISTRATIVE ASST II</td>\n",
        "      <td>ADMIN HEARNG</td>\n",
        "      <td>$60780.00</td>\n",
        "    </tr>\n",
        "    <tr>\n",
        "      <th>...</th>\n",
        "      <td>...</td>\n",
        "      <td>...</td>\n",
        "      <td>...</td>\n",
        "      <td>...</td>\n",
        "    </tr>\n",
        "    <tr>\n",
        "      <th>32104</th>\n",
        "      <td>ZIZUMBO,  DANIEL</td>\n",
        "      <td>POOL MOTOR TRUCK DRIVER</td>\n",
        "      <td>WATER MGMNT</td>\n",
        "      <td>$71780.80</td>\n",
        "    </tr>\n",
        "    <tr>\n",
        "      <th>32128</th>\n",
        "      <td>ZOTTA,  SANDINO</td>\n",
        "      <td>MECHANICAL ENGINEER IV</td>\n",
        "      <td>WATER MGMNT</td>\n",
        "      <td>$104736.00</td>\n",
        "    </tr>\n",
        "    <tr>\n",
        "      <th>32157</th>\n",
        "      <td>ZUNO,  ERIK</td>\n",
        "      <td>LABORER - APPRENTICE</td>\n",
        "      <td>WATER MGMNT</td>\n",
        "      <td>$63232.00</td>\n",
        "    </tr>\n",
        "    <tr>\n",
        "      <th>32170</th>\n",
        "      <td>ZWARYCZ,  THOMAS J</td>\n",
        "      <td>POOL MOTOR TRUCK DRIVER</td>\n",
        "      <td>WATER MGMNT</td>\n",
        "      <td>$71780.80</td>\n",
        "    </tr>\n",
        "  </tbody>\n",
        "</table>\n",
        "<p>32181 rows \u00d7 4 columns</p>\n",
        "</div>"
       ],
       "metadata": {},
       "output_type": "pyout",
       "prompt_number": 11,
       "text": [
        "                       Name                   Position Title    Department  \\\n",
        "2812         BREWER,  JAMIE           ADMINISTRATIVE ASST II  ADMIN HEARNG   \n",
        "3019      BROWN,  ELOUISE V           ADMINISTRATIVE ASST II  ADMIN HEARNG   \n",
        "3338      BURAGE,  LORRIE A  CUSTOMER ACCOUNT REPRESENTATIVE  ADMIN HEARNG   \n",
        "4236   CASSELLA,  CATHERINE           ADMINISTRATIVE ASST II  ADMIN HEARNG   \n",
        "...                     ...                              ...           ...   \n",
        "32104      ZIZUMBO,  DANIEL          POOL MOTOR TRUCK DRIVER   WATER MGMNT   \n",
        "32128       ZOTTA,  SANDINO           MECHANICAL ENGINEER IV   WATER MGMNT   \n",
        "32157           ZUNO,  ERIK             LABORER - APPRENTICE   WATER MGMNT   \n",
        "32170    ZWARYCZ,  THOMAS J          POOL MOTOR TRUCK DRIVER   WATER MGMNT   \n",
        "\n",
        "      Employee Annual Salary  \n",
        "2812               $63708.00  \n",
        "3019               $66684.00  \n",
        "3338               $55428.00  \n",
        "4236               $60780.00  \n",
        "...                      ...  \n",
        "32104              $71780.80  \n",
        "32128             $104736.00  \n",
        "32157              $63232.00  \n",
        "32170              $71780.80  \n",
        "\n",
        "[32181 rows x 4 columns]"
       ]
      }
     ],
     "prompt_number": 11
    },
    {
     "cell_type": "markdown",
     "metadata": {},
     "source": [
      "TODO point to documentation"
     ]
    },
    {
     "cell_type": "code",
     "collapsed": false,
     "input": [
      "df.sort_values('Department', ascending=False)"
     ],
     "language": "python",
     "metadata": {},
     "outputs": [
      {
       "html": [
        "<div style=\"max-width:1500px;overflow:auto;\">\n",
        "<table border=\"1\" class=\"dataframe\">\n",
        "  <thead>\n",
        "    <tr style=\"text-align: right;\">\n",
        "      <th></th>\n",
        "      <th>Name</th>\n",
        "      <th>Position Title</th>\n",
        "      <th>Department</th>\n",
        "      <th>Employee Annual Salary</th>\n",
        "    </tr>\n",
        "  </thead>\n",
        "  <tbody>\n",
        "    <tr>\n",
        "      <th>0</th>\n",
        "      <td>AARON,  ELVIA J</td>\n",
        "      <td>WATER RATE TAKER</td>\n",
        "      <td>WATER MGMNT</td>\n",
        "      <td>$88968.00</td>\n",
        "    </tr>\n",
        "    <tr>\n",
        "      <th>4</th>\n",
        "      <td>ABAD JR,  VICENTE M</td>\n",
        "      <td>CIVIL ENGINEER IV</td>\n",
        "      <td>WATER MGMNT</td>\n",
        "      <td>$104736.00</td>\n",
        "    </tr>\n",
        "    <tr>\n",
        "      <th>18</th>\n",
        "      <td>ABDUL-KARIM,  MUHAMMAD A</td>\n",
        "      <td>ENGINEERING TECHNICIAN VI</td>\n",
        "      <td>WATER MGMNT</td>\n",
        "      <td>$106104.00</td>\n",
        "    </tr>\n",
        "    <tr>\n",
        "      <th>29</th>\n",
        "      <td>ABRAHAM,  GIRLEY T</td>\n",
        "      <td>CIVIL ENGINEER IV</td>\n",
        "      <td>WATER MGMNT</td>\n",
        "      <td>$104736.00</td>\n",
        "    </tr>\n",
        "    <tr>\n",
        "      <th>...</th>\n",
        "      <td>...</td>\n",
        "      <td>...</td>\n",
        "      <td>...</td>\n",
        "      <td>...</td>\n",
        "    </tr>\n",
        "    <tr>\n",
        "      <th>28206</th>\n",
        "      <td>TAKATA,  NANCY M</td>\n",
        "      <td>EXEC ADMINISTRATIVE ASST II</td>\n",
        "      <td>ADMIN HEARNG</td>\n",
        "      <td>$67224.00</td>\n",
        "    </tr>\n",
        "    <tr>\n",
        "      <th>30552</th>\n",
        "      <td>WEINERT,  DARCI N</td>\n",
        "      <td>SENIOR HEARING OFFICER</td>\n",
        "      <td>ADMIN HEARNG</td>\n",
        "      <td>$66696.00</td>\n",
        "    </tr>\n",
        "    <tr>\n",
        "      <th>30907</th>\n",
        "      <td>WILKINS,  THADDEUS</td>\n",
        "      <td>SENIOR ADMINISTRATIVE LAW OFFICER</td>\n",
        "      <td>ADMIN HEARNG</td>\n",
        "      <td>$91980.00</td>\n",
        "    </tr>\n",
        "    <tr>\n",
        "      <th>31532</th>\n",
        "      <td>WOODRIDGE,  RACHENETTE</td>\n",
        "      <td>ADMINISTRATIVE ASST II</td>\n",
        "      <td>ADMIN HEARNG</td>\n",
        "      <td>$58020.00</td>\n",
        "    </tr>\n",
        "  </tbody>\n",
        "</table>\n",
        "<p>32181 rows \u00d7 4 columns</p>\n",
        "</div>"
       ],
       "metadata": {},
       "output_type": "pyout",
       "prompt_number": 12,
       "text": [
        "                           Name                     Position Title  \\\n",
        "0               AARON,  ELVIA J                   WATER RATE TAKER   \n",
        "4           ABAD JR,  VICENTE M                  CIVIL ENGINEER IV   \n",
        "18     ABDUL-KARIM,  MUHAMMAD A          ENGINEERING TECHNICIAN VI   \n",
        "29           ABRAHAM,  GIRLEY T                  CIVIL ENGINEER IV   \n",
        "...                         ...                                ...   \n",
        "28206          TAKATA,  NANCY M        EXEC ADMINISTRATIVE ASST II   \n",
        "30552         WEINERT,  DARCI N             SENIOR HEARING OFFICER   \n",
        "30907        WILKINS,  THADDEUS  SENIOR ADMINISTRATIVE LAW OFFICER   \n",
        "31532    WOODRIDGE,  RACHENETTE             ADMINISTRATIVE ASST II   \n",
        "\n",
        "         Department Employee Annual Salary  \n",
        "0       WATER MGMNT              $88968.00  \n",
        "4       WATER MGMNT             $104736.00  \n",
        "18      WATER MGMNT             $106104.00  \n",
        "29      WATER MGMNT             $104736.00  \n",
        "...             ...                    ...  \n",
        "28206  ADMIN HEARNG              $67224.00  \n",
        "30552  ADMIN HEARNG              $66696.00  \n",
        "30907  ADMIN HEARNG              $91980.00  \n",
        "31532  ADMIN HEARNG              $58020.00  \n",
        "\n",
        "[32181 rows x 4 columns]"
       ]
      }
     ],
     "prompt_number": 12
    },
    {
     "cell_type": "markdown",
     "metadata": {},
     "source": [
      "In addition to table objects (`DataFrame`), the `pandas` library provides column objects (`Series`)"
     ]
    },
    {
     "cell_type": "markdown",
     "metadata": {},
     "source": [
      "### Members"
     ]
    },
    {
     "cell_type": "code",
     "collapsed": false,
     "input": [
      "df.shape"
     ],
     "language": "python",
     "metadata": {},
     "outputs": [
      {
       "metadata": {},
       "output_type": "pyout",
       "prompt_number": 13,
       "text": [
        "(32181, 4)"
       ]
      }
     ],
     "prompt_number": 13
    },
    {
     "cell_type": "markdown",
     "metadata": {},
     "source": [
      "## DataFrames"
     ]
    },
    {
     "cell_type": "markdown",
     "metadata": {},
     "source": [
      "DataFrames are tables. They have rows and columns."
     ]
    },
    {
     "cell_type": "markdown",
     "metadata": {},
     "source": [
      "The columns are indexed by their names. We can list the columns using the member `columns`:"
     ]
    },
    {
     "cell_type": "code",
     "collapsed": false,
     "input": [
      "print(df.columns)"
     ],
     "language": "python",
     "metadata": {},
     "outputs": [
      {
       "output_type": "stream",
       "stream": "stdout",
       "text": [
        "Index([u'Name', u'Position Title', u'Department', u'Employee Annual Salary'], dtype='object')\n"
       ]
      }
     ],
     "prompt_number": 14
    },
    {
     "cell_type": "markdown",
     "metadata": {},
     "source": [
      "The rows are indexed by the member `index`:"
     ]
    },
    {
     "cell_type": "code",
     "collapsed": false,
     "input": [
      "print(df.index)"
     ],
     "language": "python",
     "metadata": {},
     "outputs": [
      {
       "output_type": "stream",
       "stream": "stdout",
       "text": [
        "Int64Index([    0,     1,     2,     3,     4,     5,     6,     7,     8,\n",
        "                9,\n",
        "            ...\n",
        "            32171, 32172, 32173, 32174, 32175, 32176, 32177, 32178, 32179,\n",
        "            32180],\n",
        "           dtype='int64', length=32181)\n"
       ]
      }
     ],
     "prompt_number": 15
    },
    {
     "cell_type": "markdown",
     "metadata": {},
     "source": [
      "### Indexing"
     ]
    },
    {
     "cell_type": "markdown",
     "metadata": {},
     "source": [
      "We saw last class that we can select columns from our tables as follows:"
     ]
    },
    {
     "cell_type": "code",
     "collapsed": false,
     "input": [
      "departments = df['Department']\n",
      "print(departments)"
     ],
     "language": "python",
     "metadata": {},
     "outputs": [
      {
       "output_type": "stream",
       "stream": "stdout",
       "text": [
        "0             WATER MGMNT\n",
        "1                  POLICE\n",
        "2                  POLICE\n",
        "3        GENERAL SERVICES\n",
        "               ...       \n",
        "32177              POLICE\n",
        "32178              POLICE\n",
        "32179              POLICE\n",
        "32180                DoIT\n",
        "Name: Department, dtype: object\n"
       ]
      }
     ],
     "prompt_number": 49
    },
    {
     "cell_type": "markdown",
     "metadata": {},
     "source": [
      "A single column has its own type, called `Series`"
     ]
    },
    {
     "cell_type": "code",
     "collapsed": false,
     "input": [
      "print(type(departments))"
     ],
     "language": "python",
     "metadata": {},
     "outputs": [
      {
       "output_type": "stream",
       "stream": "stdout",
       "text": [
        "<class 'pandas.core.series.Series'>\n"
       ]
      }
     ],
     "prompt_number": 50
    },
    {
     "cell_type": "markdown",
     "metadata": {},
     "source": [
      "This is called *indexing* and is a generalization of the simpler indexing that we use with lists. Indexing is denoted using square brackets."
     ]
    },
    {
     "cell_type": "code",
     "collapsed": false,
     "input": [
      "l = ['apple','banana', 'orange']\n",
      "l[2]"
     ],
     "language": "python",
     "metadata": {},
     "outputs": [
      {
       "metadata": {},
       "output_type": "pyout",
       "prompt_number": 17,
       "text": [
        "'orange'"
       ]
      }
     ],
     "prompt_number": 17
    },
    {
     "cell_type": "markdown",
     "metadata": {},
     "source": [
      "For lists the index is an integer, between `0` and `len(list)-1`."
     ]
    },
    {
     "cell_type": "code",
     "collapsed": false,
     "input": [
      "d = {'a': 1, 'b': 2, 'c': 3}\n",
      "d['a']"
     ],
     "language": "python",
     "metadata": {},
     "outputs": [
      {
       "metadata": {},
       "output_type": "pyout",
       "prompt_number": 18,
       "text": [
        "1"
       ]
      }
     ],
     "prompt_number": 18
    },
    {
     "cell_type": "markdown",
     "metadata": {},
     "source": [
      "We can also select *multiple* columns by indexing with a list of column names:"
     ]
    },
    {
     "cell_type": "code",
     "collapsed": false,
     "input": [
      "df[['Name', 'Department']]"
     ],
     "language": "python",
     "metadata": {},
     "outputs": [
      {
       "html": [
        "<div style=\"max-width:1500px;overflow:auto;\">\n",
        "<table border=\"1\" class=\"dataframe\">\n",
        "  <thead>\n",
        "    <tr style=\"text-align: right;\">\n",
        "      <th></th>\n",
        "      <th>Name</th>\n",
        "      <th>Department</th>\n",
        "    </tr>\n",
        "  </thead>\n",
        "  <tbody>\n",
        "    <tr>\n",
        "      <th>0</th>\n",
        "      <td>AARON,  ELVIA J</td>\n",
        "      <td>WATER MGMNT</td>\n",
        "    </tr>\n",
        "    <tr>\n",
        "      <th>1</th>\n",
        "      <td>AARON,  JEFFERY M</td>\n",
        "      <td>POLICE</td>\n",
        "    </tr>\n",
        "    <tr>\n",
        "      <th>2</th>\n",
        "      <td>AARON,  KARINA</td>\n",
        "      <td>POLICE</td>\n",
        "    </tr>\n",
        "    <tr>\n",
        "      <th>3</th>\n",
        "      <td>AARON,  KIMBERLEI R</td>\n",
        "      <td>GENERAL SERVICES</td>\n",
        "    </tr>\n",
        "    <tr>\n",
        "      <th>...</th>\n",
        "      <td>...</td>\n",
        "      <td>...</td>\n",
        "    </tr>\n",
        "    <tr>\n",
        "      <th>32177</th>\n",
        "      <td>ZYGOWICZ,  PETER J</td>\n",
        "      <td>POLICE</td>\n",
        "    </tr>\n",
        "    <tr>\n",
        "      <th>32178</th>\n",
        "      <td>ZYMANTAS,  MARK E</td>\n",
        "      <td>POLICE</td>\n",
        "    </tr>\n",
        "    <tr>\n",
        "      <th>32179</th>\n",
        "      <td>ZYRKOWSKI,  CARLO E</td>\n",
        "      <td>POLICE</td>\n",
        "    </tr>\n",
        "    <tr>\n",
        "      <th>32180</th>\n",
        "      <td>ZYSKOWSKI,  DARIUSZ</td>\n",
        "      <td>DoIT</td>\n",
        "    </tr>\n",
        "  </tbody>\n",
        "</table>\n",
        "<p>32181 rows \u00d7 2 columns</p>\n",
        "</div>"
       ],
       "metadata": {},
       "output_type": "pyout",
       "prompt_number": 51,
       "text": [
        "                      Name        Department\n",
        "0          AARON,  ELVIA J       WATER MGMNT\n",
        "1        AARON,  JEFFERY M            POLICE\n",
        "2           AARON,  KARINA            POLICE\n",
        "3      AARON,  KIMBERLEI R  GENERAL SERVICES\n",
        "...                    ...               ...\n",
        "32177   ZYGOWICZ,  PETER J            POLICE\n",
        "32178    ZYMANTAS,  MARK E            POLICE\n",
        "32179  ZYRKOWSKI,  CARLO E            POLICE\n",
        "32180  ZYSKOWSKI,  DARIUSZ              DoIT\n",
        "\n",
        "[32181 rows x 2 columns]"
       ]
      }
     ],
     "prompt_number": 51
    },
    {
     "cell_type": "markdown",
     "metadata": {},
     "source": [
      "We also saw that indexes can select a subset of *rows* as follows:"
     ]
    },
    {
     "cell_type": "code",
     "collapsed": false,
     "input": [
      "df[df.Department == 'POLICE']"
     ],
     "language": "python",
     "metadata": {},
     "outputs": [
      {
       "html": [
        "<div style=\"max-width:1500px;overflow:auto;\">\n",
        "<table border=\"1\" class=\"dataframe\">\n",
        "  <thead>\n",
        "    <tr style=\"text-align: right;\">\n",
        "      <th></th>\n",
        "      <th>Name</th>\n",
        "      <th>Position Title</th>\n",
        "      <th>Department</th>\n",
        "      <th>Employee Annual Salary</th>\n",
        "    </tr>\n",
        "  </thead>\n",
        "  <tbody>\n",
        "    <tr>\n",
        "      <th>1</th>\n",
        "      <td>AARON,  JEFFERY M</td>\n",
        "      <td>POLICE OFFICER</td>\n",
        "      <td>POLICE</td>\n",
        "      <td>$80778.00</td>\n",
        "    </tr>\n",
        "    <tr>\n",
        "      <th>2</th>\n",
        "      <td>AARON,  KARINA</td>\n",
        "      <td>POLICE OFFICER</td>\n",
        "      <td>POLICE</td>\n",
        "      <td>$80778.00</td>\n",
        "    </tr>\n",
        "    <tr>\n",
        "      <th>9</th>\n",
        "      <td>ABBATE,  TERRY M</td>\n",
        "      <td>POLICE OFFICER</td>\n",
        "      <td>POLICE</td>\n",
        "      <td>$86520.00</td>\n",
        "    </tr>\n",
        "    <tr>\n",
        "      <th>11</th>\n",
        "      <td>ABBOTT,  LYNISE M</td>\n",
        "      <td>CLERK III</td>\n",
        "      <td>POLICE</td>\n",
        "      <td>$43920.00</td>\n",
        "    </tr>\n",
        "    <tr>\n",
        "      <th>...</th>\n",
        "      <td>...</td>\n",
        "      <td>...</td>\n",
        "      <td>...</td>\n",
        "      <td>...</td>\n",
        "    </tr>\n",
        "    <tr>\n",
        "      <th>32174</th>\n",
        "      <td>ZYDEK,  BRYAN</td>\n",
        "      <td>POLICE OFFICER</td>\n",
        "      <td>POLICE</td>\n",
        "      <td>$80778.00</td>\n",
        "    </tr>\n",
        "    <tr>\n",
        "      <th>32177</th>\n",
        "      <td>ZYGOWICZ,  PETER J</td>\n",
        "      <td>POLICE OFFICER</td>\n",
        "      <td>POLICE</td>\n",
        "      <td>$86520.00</td>\n",
        "    </tr>\n",
        "    <tr>\n",
        "      <th>32178</th>\n",
        "      <td>ZYMANTAS,  MARK E</td>\n",
        "      <td>POLICE OFFICER</td>\n",
        "      <td>POLICE</td>\n",
        "      <td>$83616.00</td>\n",
        "    </tr>\n",
        "    <tr>\n",
        "      <th>32179</th>\n",
        "      <td>ZYRKOWSKI,  CARLO E</td>\n",
        "      <td>POLICE OFFICER</td>\n",
        "      <td>POLICE</td>\n",
        "      <td>$86520.00</td>\n",
        "    </tr>\n",
        "  </tbody>\n",
        "</table>\n",
        "<p>13570 rows \u00d7 4 columns</p>\n",
        "</div>"
       ],
       "metadata": {},
       "output_type": "pyout",
       "prompt_number": 20,
       "text": [
        "                      Name  Position Title Department Employee Annual Salary\n",
        "1        AARON,  JEFFERY M  POLICE OFFICER     POLICE              $80778.00\n",
        "2           AARON,  KARINA  POLICE OFFICER     POLICE              $80778.00\n",
        "9         ABBATE,  TERRY M  POLICE OFFICER     POLICE              $86520.00\n",
        "11       ABBOTT,  LYNISE M       CLERK III     POLICE              $43920.00\n",
        "...                    ...             ...        ...                    ...\n",
        "32174        ZYDEK,  BRYAN  POLICE OFFICER     POLICE              $80778.00\n",
        "32177   ZYGOWICZ,  PETER J  POLICE OFFICER     POLICE              $86520.00\n",
        "32178    ZYMANTAS,  MARK E  POLICE OFFICER     POLICE              $83616.00\n",
        "32179  ZYRKOWSKI,  CARLO E  POLICE OFFICER     POLICE              $86520.00\n",
        "\n",
        "[13570 rows x 4 columns]"
       ]
      }
     ],
     "prompt_number": 20
    },
    {
     "cell_type": "markdown",
     "metadata": {},
     "source": [
      "How does this work? What is the index in the expression `df[df.Department == 'POLICE']`?"
     ]
    },
    {
     "cell_type": "code",
     "collapsed": false,
     "input": [
      "df['Department'] == 'POLICE'"
     ],
     "language": "python",
     "metadata": {},
     "outputs": [
      {
       "metadata": {},
       "output_type": "pyout",
       "prompt_number": 21,
       "text": [
        "0        False\n",
        "1         True\n",
        "2         True\n",
        "3        False\n",
        "         ...  \n",
        "32177     True\n",
        "32178     True\n",
        "32179     True\n",
        "32180    False\n",
        "Name: Department, dtype: bool"
       ]
      }
     ],
     "prompt_number": 21
    },
    {
     "cell_type": "markdown",
     "metadata": {},
     "source": [
      "This is called a boolean series. It is a series of the same index (rows) as `df`. For each index value (in this case 0 through 32180) there is boolean (`True` or `False`), in this case indicating whether the `Department` column is equal to `'Police'`. When we pass it as an index we are selecting the rows for which the series is `True`."
     ]
    },
    {
     "cell_type": "markdown",
     "metadata": {},
     "source": [
      "### Applying functions to a Series"
     ]
    },
    {
     "cell_type": "code",
     "collapsed": false,
     "input": [
      "salaries = df['Employee Annual Salary'].copy()\n",
      "salaries"
     ],
     "language": "python",
     "metadata": {},
     "outputs": [
      {
       "metadata": {},
       "output_type": "pyout",
       "prompt_number": 22,
       "text": [
        "0         $88968.00\n",
        "1         $80778.00\n",
        "2         $80778.00\n",
        "3         $84780.00\n",
        "            ...    \n",
        "32177     $86520.00\n",
        "32178     $83616.00\n",
        "32179     $86520.00\n",
        "32180    $110352.00\n",
        "Name: Employee Annual Salary, dtype: object"
       ]
      }
     ],
     "prompt_number": 22
    },
    {
     "cell_type": "code",
     "collapsed": false,
     "input": [
      "salary = salaries[0]\n",
      "print_type(salary)"
     ],
     "language": "python",
     "metadata": {},
     "outputs": [
      {
       "output_type": "stream",
       "stream": "stdout",
       "text": [
        "$88968.00 is type<type 'str'>\n"
       ]
      }
     ],
     "prompt_number": 23
    },
    {
     "cell_type": "markdown",
     "metadata": {},
     "source": [
      "How to make this a number? Remove the first character and cast to float"
     ]
    },
    {
     "cell_type": "code",
     "collapsed": false,
     "input": [
      "t = float(salary[1:])\n",
      "print_type(t)"
     ],
     "language": "python",
     "metadata": {},
     "outputs": [
      {
       "output_type": "stream",
       "stream": "stdout",
       "text": [
        "88968.0 is type<type 'float'>\n"
       ]
      }
     ],
     "prompt_number": 26
    },
    {
     "cell_type": "markdown",
     "metadata": {},
     "source": [
      "Want to do this for every salary? Could just loop over and assign:"
     ]
    },
    {
     "cell_type": "code",
     "collapsed": false,
     "input": [
      "for i in range(len(salaries)):\n",
      "    salaries[i] = float(salaries[i][1:])\n",
      "salaries"
     ],
     "language": "python",
     "metadata": {},
     "outputs": [
      {
       "metadata": {},
       "output_type": "pyout",
       "prompt_number": 27,
       "text": [
        "0         88968\n",
        "1         80778\n",
        "2         80778\n",
        "3         84780\n",
        "          ...  \n",
        "32177     86520\n",
        "32178     83616\n",
        "32179     86520\n",
        "32180    110352\n",
        "Name: Employee Annual Salary, dtype: object"
       ]
      }
     ],
     "prompt_number": 27
    },
    {
     "cell_type": "markdown",
     "metadata": {},
     "source": [
      "Alternatively define a function to do the conversion and rewrite the loop:"
     ]
    },
    {
     "cell_type": "code",
     "collapsed": false,
     "input": [
      "def salary_to_float(salary):\n",
      "    return float(salary[1:])\n",
      "\n",
      "salaries = df['Employee Annual Salary'].copy()\n",
      "for i in range(len(salaries)):\n",
      "    salaries[i] = salary_to_float(salaries[i])\n",
      "salaries"
     ],
     "language": "python",
     "metadata": {},
     "outputs": [
      {
       "metadata": {},
       "output_type": "pyout",
       "prompt_number": 28,
       "text": [
        "0         88968\n",
        "1         80778\n",
        "2         80778\n",
        "3         84780\n",
        "          ...  \n",
        "32177     86520\n",
        "32178     83616\n",
        "32179     86520\n",
        "32180    110352\n",
        "Name: Employee Annual Salary, dtype: object"
       ]
      }
     ],
     "prompt_number": 28
    },
    {
     "cell_type": "markdown",
     "metadata": {},
     "source": [
      "Better yet, we could use the `Series.apply` function, which applies a given function to every element in a Series (every entry in a given column):"
     ]
    },
    {
     "cell_type": "code",
     "collapsed": false,
     "input": [
      "df['Employee Annual Salary'].apply(salary_to_float)\n",
      "df"
     ],
     "language": "python",
     "metadata": {},
     "outputs": [
      {
       "ename": "IndexError",
       "evalue": "invalid index to scalar variable.",
       "output_type": "pyerr",
       "traceback": [
        "\u001b[0;31m---------------------------------------------------------------------------\u001b[0m\n\u001b[0;31mIndexError\u001b[0m                                Traceback (most recent call last)",
        "\u001b[0;32m<ipython-input-53-def17b8a74a7>\u001b[0m in \u001b[0;36m<module>\u001b[0;34m()\u001b[0m\n\u001b[0;32m----> 1\u001b[0;31m \u001b[0mdf\u001b[0m\u001b[0;34m[\u001b[0m\u001b[0;34m'Employee Annual Salary'\u001b[0m\u001b[0;34m]\u001b[0m\u001b[0;34m.\u001b[0m\u001b[0mapply\u001b[0m\u001b[0;34m(\u001b[0m\u001b[0msalary_to_float\u001b[0m\u001b[0;34m)\u001b[0m\u001b[0;34m\u001b[0m\u001b[0m\n\u001b[0m\u001b[1;32m      2\u001b[0m \u001b[0mdf\u001b[0m\u001b[0;34m\u001b[0m\u001b[0m\n",
        "\u001b[0;32m/usr/lib/python2.7/dist-packages/pandas/core/series.pyc\u001b[0m in \u001b[0;36mapply\u001b[0;34m(self, func, convert_dtype, args, **kwds)\u001b[0m\n\u001b[1;32m   2167\u001b[0m             \u001b[0mvalues\u001b[0m \u001b[0;34m=\u001b[0m \u001b[0mlib\u001b[0m\u001b[0;34m.\u001b[0m\u001b[0mmap_infer\u001b[0m\u001b[0;34m(\u001b[0m\u001b[0mvalues\u001b[0m\u001b[0;34m,\u001b[0m \u001b[0mlib\u001b[0m\u001b[0;34m.\u001b[0m\u001b[0mTimestamp\u001b[0m\u001b[0;34m)\u001b[0m\u001b[0;34m\u001b[0m\u001b[0m\n\u001b[1;32m   2168\u001b[0m \u001b[0;34m\u001b[0m\u001b[0m\n\u001b[0;32m-> 2169\u001b[0;31m         \u001b[0mmapped\u001b[0m \u001b[0;34m=\u001b[0m \u001b[0mlib\u001b[0m\u001b[0;34m.\u001b[0m\u001b[0mmap_infer\u001b[0m\u001b[0;34m(\u001b[0m\u001b[0mvalues\u001b[0m\u001b[0;34m,\u001b[0m \u001b[0mf\u001b[0m\u001b[0;34m,\u001b[0m \u001b[0mconvert\u001b[0m\u001b[0;34m=\u001b[0m\u001b[0mconvert_dtype\u001b[0m\u001b[0;34m)\u001b[0m\u001b[0;34m\u001b[0m\u001b[0m\n\u001b[0m\u001b[1;32m   2170\u001b[0m         \u001b[0;32mif\u001b[0m \u001b[0mlen\u001b[0m\u001b[0;34m(\u001b[0m\u001b[0mmapped\u001b[0m\u001b[0;34m)\u001b[0m \u001b[0;32mand\u001b[0m \u001b[0misinstance\u001b[0m\u001b[0;34m(\u001b[0m\u001b[0mmapped\u001b[0m\u001b[0;34m[\u001b[0m\u001b[0;36m0\u001b[0m\u001b[0;34m]\u001b[0m\u001b[0;34m,\u001b[0m \u001b[0mSeries\u001b[0m\u001b[0;34m)\u001b[0m\u001b[0;34m:\u001b[0m\u001b[0;34m\u001b[0m\u001b[0m\n\u001b[1;32m   2171\u001b[0m             \u001b[0;32mfrom\u001b[0m \u001b[0mpandas\u001b[0m\u001b[0;34m.\u001b[0m\u001b[0mcore\u001b[0m\u001b[0;34m.\u001b[0m\u001b[0mframe\u001b[0m \u001b[0;32mimport\u001b[0m \u001b[0mDataFrame\u001b[0m\u001b[0;34m\u001b[0m\u001b[0m\n",
        "\u001b[0;32m/usr/lib/python2.7/dist-packages/pandas/lib.so\u001b[0m in \u001b[0;36mpandas.lib.map_infer (pandas/lib.c:62578)\u001b[0;34m()\u001b[0m\n",
        "\u001b[0;32m<ipython-input-28-fe94509b73b7>\u001b[0m in \u001b[0;36msalary_to_float\u001b[0;34m(salary)\u001b[0m\n\u001b[1;32m      1\u001b[0m \u001b[0;32mdef\u001b[0m \u001b[0msalary_to_float\u001b[0m\u001b[0;34m(\u001b[0m\u001b[0msalary\u001b[0m\u001b[0;34m)\u001b[0m\u001b[0;34m:\u001b[0m\u001b[0;34m\u001b[0m\u001b[0m\n\u001b[0;32m----> 2\u001b[0;31m     \u001b[0;32mreturn\u001b[0m \u001b[0mfloat\u001b[0m\u001b[0;34m(\u001b[0m\u001b[0msalary\u001b[0m\u001b[0;34m[\u001b[0m\u001b[0;36m1\u001b[0m\u001b[0;34m:\u001b[0m\u001b[0;34m]\u001b[0m\u001b[0;34m)\u001b[0m\u001b[0;34m\u001b[0m\u001b[0m\n\u001b[0m\u001b[1;32m      3\u001b[0m \u001b[0;34m\u001b[0m\u001b[0m\n\u001b[1;32m      4\u001b[0m \u001b[0msalaries\u001b[0m \u001b[0;34m=\u001b[0m \u001b[0mdf\u001b[0m\u001b[0;34m[\u001b[0m\u001b[0;34m'Employee Annual Salary'\u001b[0m\u001b[0;34m]\u001b[0m\u001b[0;34m.\u001b[0m\u001b[0mcopy\u001b[0m\u001b[0;34m(\u001b[0m\u001b[0;34m)\u001b[0m\u001b[0;34m\u001b[0m\u001b[0m\n\u001b[1;32m      5\u001b[0m \u001b[0;32mfor\u001b[0m \u001b[0mi\u001b[0m \u001b[0;32min\u001b[0m \u001b[0mrange\u001b[0m\u001b[0;34m(\u001b[0m\u001b[0mlen\u001b[0m\u001b[0;34m(\u001b[0m\u001b[0msalaries\u001b[0m\u001b[0;34m)\u001b[0m\u001b[0;34m)\u001b[0m\u001b[0;34m:\u001b[0m\u001b[0;34m\u001b[0m\u001b[0m\n",
        "\u001b[0;31mIndexError\u001b[0m: invalid index to scalar variable."
       ]
      }
     ],
     "prompt_number": 53
    },
    {
     "cell_type": "markdown",
     "metadata": {},
     "source": [
      "## Datetimes"
     ]
    },
    {
     "cell_type": "code",
     "collapsed": false,
     "input": [
      "## Dates and times are important for data analysis. Let's look again at the Chicago crime dataset."
     ],
     "language": "python",
     "metadata": {},
     "outputs": [],
     "prompt_number": 43
    },
    {
     "cell_type": "code",
     "collapsed": false,
     "input": [
      "df_crimes = pd.read_csv('Crimes_-_2001_to_present.csv', parse_dates=['Date'])"
     ],
     "language": "python",
     "metadata": {},
     "outputs": [],
     "prompt_number": 30
    },
    {
     "cell_type": "code",
     "collapsed": false,
     "input": [
      "df_crimes['Date']"
     ],
     "language": "python",
     "metadata": {},
     "outputs": [
      {
       "metadata": {},
       "output_type": "pyout",
       "prompt_number": 44,
       "text": [
        "0      2016-01-03 23:57:00\n",
        "1      2016-01-03 23:45:00\n",
        "2      2016-01-03 23:44:00\n",
        "3      2016-01-03 23:36:00\n",
        "               ...        \n",
        "1726   2016-01-01 00:01:00\n",
        "1727   2016-01-01 00:01:00\n",
        "1728   2016-01-01 00:01:00\n",
        "1729   2016-01-01 00:01:00\n",
        "Name: Date, dtype: datetime64[ns]"
       ]
      }
     ],
     "prompt_number": 44
    },
    {
     "cell_type": "code",
     "collapsed": false,
     "input": [
      "date = df_crimes['Date'][0]\n",
      "print_type(date)"
     ],
     "language": "python",
     "metadata": {},
     "outputs": [
      {
       "output_type": "stream",
       "stream": "stdout",
       "text": [
        "2016-01-03 23:57:00 is type<class 'pandas.tslib.Timestamp'>\n"
       ]
      }
     ],
     "prompt_number": 32
    },
    {
     "cell_type": "code",
     "collapsed": false,
     "input": [
      "print(date.year)\n",
      "print(date.month)\n",
      "print(date.day)\n",
      "print(date.dayofweek)"
     ],
     "language": "python",
     "metadata": {},
     "outputs": [
      {
       "output_type": "stream",
       "stream": "stdout",
       "text": [
        "2016\n",
        "1\n",
        "3\n",
        "6\n"
       ]
      }
     ],
     "prompt_number": 33
    },
    {
     "cell_type": "code",
     "collapsed": false,
     "input": [
      "def dayofweek(date):\n",
      "    return date.dayofweek"
     ],
     "language": "python",
     "metadata": {},
     "outputs": [],
     "prompt_number": 34
    },
    {
     "cell_type": "code",
     "collapsed": false,
     "input": [
      "df_crimes['Date'].apply(dayofweek)"
     ],
     "language": "python",
     "metadata": {},
     "outputs": [
      {
       "metadata": {},
       "output_type": "pyout",
       "prompt_number": 35,
       "text": [
        "0       6\n",
        "1       6\n",
        "2       6\n",
        "3       6\n",
        "       ..\n",
        "1726    4\n",
        "1727    4\n",
        "1728    4\n",
        "1729    4\n",
        "Name: Date, dtype: int64"
       ]
      }
     ],
     "prompt_number": 35
    },
    {
     "cell_type": "code",
     "collapsed": false,
     "input": [
      "df_crimes['DayOfWeek'] = df_crimes['Date'].apply(dayofweek)"
     ],
     "language": "python",
     "metadata": {},
     "outputs": [],
     "prompt_number": 45
    },
    {
     "cell_type": "code",
     "collapsed": false,
     "input": [
      "df_crimes"
     ],
     "language": "python",
     "metadata": {},
     "outputs": [
      {
       "html": [
        "<div style=\"max-width:1500px;overflow:auto;\">\n",
        "<table border=\"1\" class=\"dataframe\">\n",
        "  <thead>\n",
        "    <tr style=\"text-align: right;\">\n",
        "      <th></th>\n",
        "      <th>ID</th>\n",
        "      <th>Case Number</th>\n",
        "      <th>Date</th>\n",
        "      <th>Block</th>\n",
        "      <th>IUCR</th>\n",
        "      <th>Primary Type</th>\n",
        "      <th>Description</th>\n",
        "      <th>Location Description</th>\n",
        "      <th>Arrest</th>\n",
        "      <th>Domestic</th>\n",
        "      <th>...</th>\n",
        "      <th>Community Area</th>\n",
        "      <th>FBI Code</th>\n",
        "      <th>X Coordinate</th>\n",
        "      <th>Y Coordinate</th>\n",
        "      <th>Year</th>\n",
        "      <th>Updated On</th>\n",
        "      <th>Latitude</th>\n",
        "      <th>Longitude</th>\n",
        "      <th>Location</th>\n",
        "      <th>DayOfWeek</th>\n",
        "    </tr>\n",
        "  </thead>\n",
        "  <tbody>\n",
        "    <tr>\n",
        "      <th>0</th>\n",
        "      <td>10367002</td>\n",
        "      <td>HZ103159</td>\n",
        "      <td>2016-01-03 23:57:00</td>\n",
        "      <td>016XX W 77TH ST</td>\n",
        "      <td>0486</td>\n",
        "      <td>BATTERY</td>\n",
        "      <td>DOMESTIC BATTERY SIMPLE</td>\n",
        "      <td>RESIDENCE</td>\n",
        "      <td>False</td>\n",
        "      <td>True</td>\n",
        "      <td>...</td>\n",
        "      <td>71</td>\n",
        "      <td>08B</td>\n",
        "      <td>1166811</td>\n",
        "      <td>1853653</td>\n",
        "      <td>2016</td>\n",
        "      <td>01/10/2016 08:46:55 AM</td>\n",
        "      <td>41.753985</td>\n",
        "      <td>-87.664263</td>\n",
        "      <td>(41.753985135, -87.664263469)</td>\n",
        "      <td>6</td>\n",
        "    </tr>\n",
        "    <tr>\n",
        "      <th>1</th>\n",
        "      <td>10366954</td>\n",
        "      <td>HZ103177</td>\n",
        "      <td>2016-01-03 23:45:00</td>\n",
        "      <td>003XX W 42ND ST</td>\n",
        "      <td>0930</td>\n",
        "      <td>MOTOR VEHICLE THEFT</td>\n",
        "      <td>THEFT/RECOVERY: AUTOMOBILE</td>\n",
        "      <td>STREET</td>\n",
        "      <td>False</td>\n",
        "      <td>False</td>\n",
        "      <td>...</td>\n",
        "      <td>37</td>\n",
        "      <td>07</td>\n",
        "      <td>1174795</td>\n",
        "      <td>1877110</td>\n",
        "      <td>2016</td>\n",
        "      <td>01/10/2016 08:46:55 AM</td>\n",
        "      <td>41.818180</td>\n",
        "      <td>-87.634306</td>\n",
        "      <td>(41.818179533, -87.634305993)</td>\n",
        "      <td>6</td>\n",
        "    </tr>\n",
        "    <tr>\n",
        "      <th>2</th>\n",
        "      <td>10366945</td>\n",
        "      <td>HZ103160</td>\n",
        "      <td>2016-01-03 23:44:00</td>\n",
        "      <td>055XX N LINCOLN AVE</td>\n",
        "      <td>502R</td>\n",
        "      <td>OTHER OFFENSE</td>\n",
        "      <td>VEHICLE TITLE/REG OFFENSE</td>\n",
        "      <td>STREET</td>\n",
        "      <td>True</td>\n",
        "      <td>False</td>\n",
        "      <td>...</td>\n",
        "      <td>4</td>\n",
        "      <td>26</td>\n",
        "      <td>1157929</td>\n",
        "      <td>1936966</td>\n",
        "      <td>2016</td>\n",
        "      <td>01/10/2016 08:46:55 AM</td>\n",
        "      <td>41.982789</td>\n",
        "      <td>-87.694541</td>\n",
        "      <td>(41.982789367, -87.69454123)</td>\n",
        "      <td>6</td>\n",
        "    </tr>\n",
        "    <tr>\n",
        "      <th>3</th>\n",
        "      <td>10367534</td>\n",
        "      <td>HZ103498</td>\n",
        "      <td>2016-01-03 23:36:00</td>\n",
        "      <td>081XX S ESSEX AVE</td>\n",
        "      <td>1320</td>\n",
        "      <td>CRIMINAL DAMAGE</td>\n",
        "      <td>TO VEHICLE</td>\n",
        "      <td>STREET</td>\n",
        "      <td>False</td>\n",
        "      <td>False</td>\n",
        "      <td>...</td>\n",
        "      <td>46</td>\n",
        "      <td>14</td>\n",
        "      <td>1194260</td>\n",
        "      <td>1851569</td>\n",
        "      <td>2016</td>\n",
        "      <td>01/10/2016 08:46:55 AM</td>\n",
        "      <td>41.747637</td>\n",
        "      <td>-87.563742</td>\n",
        "      <td>(41.747636668, -87.563741805)</td>\n",
        "      <td>6</td>\n",
        "    </tr>\n",
        "    <tr>\n",
        "      <th>...</th>\n",
        "      <td>...</td>\n",
        "      <td>...</td>\n",
        "      <td>...</td>\n",
        "      <td>...</td>\n",
        "      <td>...</td>\n",
        "      <td>...</td>\n",
        "      <td>...</td>\n",
        "      <td>...</td>\n",
        "      <td>...</td>\n",
        "      <td>...</td>\n",
        "      <td>...</td>\n",
        "      <td>...</td>\n",
        "      <td>...</td>\n",
        "      <td>...</td>\n",
        "      <td>...</td>\n",
        "      <td>...</td>\n",
        "      <td>...</td>\n",
        "      <td>...</td>\n",
        "      <td>...</td>\n",
        "      <td>...</td>\n",
        "      <td>...</td>\n",
        "    </tr>\n",
        "    <tr>\n",
        "      <th>1726</th>\n",
        "      <td>10365595</td>\n",
        "      <td>HZ100414</td>\n",
        "      <td>2016-01-01 00:01:00</td>\n",
        "      <td>020XX N NEWLAND AVE</td>\n",
        "      <td>1310</td>\n",
        "      <td>CRIMINAL DAMAGE</td>\n",
        "      <td>TO PROPERTY</td>\n",
        "      <td>RESIDENCE</td>\n",
        "      <td>False</td>\n",
        "      <td>False</td>\n",
        "      <td>...</td>\n",
        "      <td>25</td>\n",
        "      <td>14</td>\n",
        "      <td>1129760</td>\n",
        "      <td>1912773</td>\n",
        "      <td>2016</td>\n",
        "      <td>01/10/2016 08:46:55 AM</td>\n",
        "      <td>41.916931</td>\n",
        "      <td>-87.798697</td>\n",
        "      <td>(41.916930792, -87.798697185)</td>\n",
        "      <td>4</td>\n",
        "    </tr>\n",
        "    <tr>\n",
        "      <th>1727</th>\n",
        "      <td>10368855</td>\n",
        "      <td>HZ104913</td>\n",
        "      <td>2016-01-01 00:01:00</td>\n",
        "      <td>085XX S SANGAMON ST</td>\n",
        "      <td>2820</td>\n",
        "      <td>OTHER OFFENSE</td>\n",
        "      <td>TELEPHONE THREAT</td>\n",
        "      <td>RESIDENCE</td>\n",
        "      <td>False</td>\n",
        "      <td>False</td>\n",
        "      <td>...</td>\n",
        "      <td>71</td>\n",
        "      <td>26</td>\n",
        "      <td>NaN</td>\n",
        "      <td>NaN</td>\n",
        "      <td>2016</td>\n",
        "      <td>01/10/2016 08:46:55 AM</td>\n",
        "      <td>NaN</td>\n",
        "      <td>NaN</td>\n",
        "      <td>NaN</td>\n",
        "      <td>4</td>\n",
        "    </tr>\n",
        "    <tr>\n",
        "      <th>1728</th>\n",
        "      <td>10365598</td>\n",
        "      <td>HZ101287</td>\n",
        "      <td>2016-01-01 00:01:00</td>\n",
        "      <td>056XX S NARRAGANSETT AVE</td>\n",
        "      <td>1320</td>\n",
        "      <td>CRIMINAL DAMAGE</td>\n",
        "      <td>TO VEHICLE</td>\n",
        "      <td>STREET</td>\n",
        "      <td>False</td>\n",
        "      <td>False</td>\n",
        "      <td>...</td>\n",
        "      <td>56</td>\n",
        "      <td>14</td>\n",
        "      <td>1134682</td>\n",
        "      <td>1866432</td>\n",
        "      <td>2016</td>\n",
        "      <td>01/10/2016 08:46:55 AM</td>\n",
        "      <td>41.789678</td>\n",
        "      <td>-87.781707</td>\n",
        "      <td>(41.789678467, -87.781707212)</td>\n",
        "      <td>4</td>\n",
        "    </tr>\n",
        "    <tr>\n",
        "      <th>1729</th>\n",
        "      <td>10366666</td>\n",
        "      <td>HZ102516</td>\n",
        "      <td>2016-01-01 00:01:00</td>\n",
        "      <td>043XX N SPAULDING AVE</td>\n",
        "      <td>1320</td>\n",
        "      <td>CRIMINAL DAMAGE</td>\n",
        "      <td>TO VEHICLE</td>\n",
        "      <td>STREET</td>\n",
        "      <td>False</td>\n",
        "      <td>False</td>\n",
        "      <td>...</td>\n",
        "      <td>16</td>\n",
        "      <td>14</td>\n",
        "      <td>NaN</td>\n",
        "      <td>NaN</td>\n",
        "      <td>2016</td>\n",
        "      <td>01/10/2016 08:46:55 AM</td>\n",
        "      <td>NaN</td>\n",
        "      <td>NaN</td>\n",
        "      <td>NaN</td>\n",
        "      <td>4</td>\n",
        "    </tr>\n",
        "  </tbody>\n",
        "</table>\n",
        "<p>1730 rows \u00d7 23 columns</p>\n",
        "</div>"
       ],
       "metadata": {},
       "output_type": "pyout",
       "prompt_number": 46,
       "text": [
        "            ID Case Number                Date                     Block  \\\n",
        "0     10367002    HZ103159 2016-01-03 23:57:00           016XX W 77TH ST   \n",
        "1     10366954    HZ103177 2016-01-03 23:45:00           003XX W 42ND ST   \n",
        "2     10366945    HZ103160 2016-01-03 23:44:00       055XX N LINCOLN AVE   \n",
        "3     10367534    HZ103498 2016-01-03 23:36:00         081XX S ESSEX AVE   \n",
        "...        ...         ...                 ...                       ...   \n",
        "1726  10365595    HZ100414 2016-01-01 00:01:00       020XX N NEWLAND AVE   \n",
        "1727  10368855    HZ104913 2016-01-01 00:01:00       085XX S SANGAMON ST   \n",
        "1728  10365598    HZ101287 2016-01-01 00:01:00  056XX S NARRAGANSETT AVE   \n",
        "1729  10366666    HZ102516 2016-01-01 00:01:00     043XX N SPAULDING AVE   \n",
        "\n",
        "      IUCR         Primary Type                 Description  \\\n",
        "0     0486              BATTERY     DOMESTIC BATTERY SIMPLE   \n",
        "1     0930  MOTOR VEHICLE THEFT  THEFT/RECOVERY: AUTOMOBILE   \n",
        "2     502R        OTHER OFFENSE   VEHICLE TITLE/REG OFFENSE   \n",
        "3     1320      CRIMINAL DAMAGE                  TO VEHICLE   \n",
        "...    ...                  ...                         ...   \n",
        "1726  1310      CRIMINAL DAMAGE                 TO PROPERTY   \n",
        "1727  2820        OTHER OFFENSE            TELEPHONE THREAT   \n",
        "1728  1320      CRIMINAL DAMAGE                  TO VEHICLE   \n",
        "1729  1320      CRIMINAL DAMAGE                  TO VEHICLE   \n",
        "\n",
        "     Location Description Arrest Domestic    ...      Community Area  \\\n",
        "0               RESIDENCE  False     True    ...                  71   \n",
        "1                  STREET  False    False    ...                  37   \n",
        "2                  STREET   True    False    ...                   4   \n",
        "3                  STREET  False    False    ...                  46   \n",
        "...                   ...    ...      ...    ...                 ...   \n",
        "1726            RESIDENCE  False    False    ...                  25   \n",
        "1727            RESIDENCE  False    False    ...                  71   \n",
        "1728               STREET  False    False    ...                  56   \n",
        "1729               STREET  False    False    ...                  16   \n",
        "\n",
        "      FBI Code  X Coordinate  Y Coordinate  Year              Updated On  \\\n",
        "0          08B       1166811       1853653  2016  01/10/2016 08:46:55 AM   \n",
        "1           07       1174795       1877110  2016  01/10/2016 08:46:55 AM   \n",
        "2           26       1157929       1936966  2016  01/10/2016 08:46:55 AM   \n",
        "3           14       1194260       1851569  2016  01/10/2016 08:46:55 AM   \n",
        "...        ...           ...           ...   ...                     ...   \n",
        "1726        14       1129760       1912773  2016  01/10/2016 08:46:55 AM   \n",
        "1727        26           NaN           NaN  2016  01/10/2016 08:46:55 AM   \n",
        "1728        14       1134682       1866432  2016  01/10/2016 08:46:55 AM   \n",
        "1729        14           NaN           NaN  2016  01/10/2016 08:46:55 AM   \n",
        "\n",
        "       Latitude  Longitude                       Location  DayOfWeek  \n",
        "0     41.753985 -87.664263  (41.753985135, -87.664263469)          6  \n",
        "1     41.818180 -87.634306  (41.818179533, -87.634305993)          6  \n",
        "2     41.982789 -87.694541   (41.982789367, -87.69454123)          6  \n",
        "3     41.747637 -87.563742  (41.747636668, -87.563741805)          6  \n",
        "...         ...        ...                            ...        ...  \n",
        "1726  41.916931 -87.798697  (41.916930792, -87.798697185)          4  \n",
        "1727        NaN        NaN                            NaN          4  \n",
        "1728  41.789678 -87.781707  (41.789678467, -87.781707212)          4  \n",
        "1729        NaN        NaN                            NaN          4  \n",
        "\n",
        "[1730 rows x 23 columns]"
       ]
      }
     ],
     "prompt_number": 46
    },
    {
     "cell_type": "markdown",
     "metadata": {},
     "source": [
      "## Complex Queries: Logical Operations on Series"
     ]
    },
    {
     "cell_type": "markdown",
     "metadata": {},
     "source": [
      "Given boolean series there are three basic logical operations: and (`&`), or (`|`) and not (`~`). We can use these on boolean series to do more complex queries of our table. "
     ]
    },
    {
     "cell_type": "code",
     "collapsed": false,
     "input": [
      "df['Employee Annual Salary'] > 100000"
     ],
     "language": "python",
     "metadata": {},
     "outputs": [
      {
       "metadata": {},
       "output_type": "pyout",
       "prompt_number": 38,
       "text": [
        "0        False\n",
        "1        False\n",
        "2        False\n",
        "3        False\n",
        "         ...  \n",
        "32177    False\n",
        "32178    False\n",
        "32179    False\n",
        "32180     True\n",
        "Name: Employee Annual Salary, dtype: bool"
       ]
      }
     ],
     "prompt_number": 38
    },
    {
     "cell_type": "code",
     "collapsed": false,
     "input": [
      "~(df['Employee Annual Salary'] > 100000)"
     ],
     "language": "python",
     "metadata": {},
     "outputs": [
      {
       "metadata": {},
       "output_type": "pyout",
       "prompt_number": 39,
       "text": [
        "0         True\n",
        "1         True\n",
        "2         True\n",
        "3         True\n",
        "         ...  \n",
        "32177     True\n",
        "32178     True\n",
        "32179     True\n",
        "32180    False\n",
        "Name: Employee Annual Salary, dtype: bool"
       ]
      }
     ],
     "prompt_number": 39
    },
    {
     "cell_type": "code",
     "collapsed": false,
     "input": [
      "df[df['Employee Annual Salary'] > 100000]"
     ],
     "language": "python",
     "metadata": {},
     "outputs": [
      {
       "html": [
        "<div style=\"max-width:1500px;overflow:auto;\">\n",
        "<table border=\"1\" class=\"dataframe\">\n",
        "  <thead>\n",
        "    <tr style=\"text-align: right;\">\n",
        "      <th></th>\n",
        "      <th>Name</th>\n",
        "      <th>Position Title</th>\n",
        "      <th>Department</th>\n",
        "      <th>Employee Annual Salary</th>\n",
        "    </tr>\n",
        "  </thead>\n",
        "  <tbody>\n",
        "    <tr>\n",
        "      <th>4</th>\n",
        "      <td>ABAD JR,  VICENTE M</td>\n",
        "      <td>CIVIL ENGINEER IV</td>\n",
        "      <td>WATER MGMNT</td>\n",
        "      <td>104736</td>\n",
        "    </tr>\n",
        "    <tr>\n",
        "      <th>18</th>\n",
        "      <td>ABDUL-KARIM,  MUHAMMAD A</td>\n",
        "      <td>ENGINEERING TECHNICIAN VI</td>\n",
        "      <td>WATER MGMNT</td>\n",
        "      <td>106104</td>\n",
        "    </tr>\n",
        "    <tr>\n",
        "      <th>20</th>\n",
        "      <td>ABDULLAH,  KEVIN</td>\n",
        "      <td>LIEUTENANT</td>\n",
        "      <td>FIRE</td>\n",
        "      <td>110370</td>\n",
        "    </tr>\n",
        "    <tr>\n",
        "      <th>28</th>\n",
        "      <td>ABOUELKHEIR,  HASSAN A</td>\n",
        "      <td>SENIOR PROGRAMMER/ANALYST</td>\n",
        "      <td>DoIT</td>\n",
        "      <td>104736</td>\n",
        "    </tr>\n",
        "    <tr>\n",
        "      <th>...</th>\n",
        "      <td>...</td>\n",
        "      <td>...</td>\n",
        "      <td>...</td>\n",
        "      <td>...</td>\n",
        "    </tr>\n",
        "    <tr>\n",
        "      <th>32128</th>\n",
        "      <td>ZOTTA,  SANDINO</td>\n",
        "      <td>MECHANICAL ENGINEER IV</td>\n",
        "      <td>WATER MGMNT</td>\n",
        "      <td>104736</td>\n",
        "    </tr>\n",
        "    <tr>\n",
        "      <th>32130</th>\n",
        "      <td>ZOVKO,  RICHARD A</td>\n",
        "      <td>HOISTING ENGINEER - MECHANIC</td>\n",
        "      <td>GENERAL SERVICES</td>\n",
        "      <td>104208</td>\n",
        "    </tr>\n",
        "    <tr>\n",
        "      <th>32158</th>\n",
        "      <td>ZUPAN,  BILL M</td>\n",
        "      <td>LIEUTENANT-EMT</td>\n",
        "      <td>FIRE</td>\n",
        "      <td>106524</td>\n",
        "    </tr>\n",
        "    <tr>\n",
        "      <th>32180</th>\n",
        "      <td>ZYSKOWSKI,  DARIUSZ</td>\n",
        "      <td>CHIEF DATA BASE ANALYST</td>\n",
        "      <td>DoIT</td>\n",
        "      <td>110352</td>\n",
        "    </tr>\n",
        "  </tbody>\n",
        "</table>\n",
        "<p>3919 rows \u00d7 4 columns</p>\n",
        "</div>"
       ],
       "metadata": {},
       "output_type": "pyout",
       "prompt_number": 40,
       "text": [
        "                           Name                Position Title  \\\n",
        "4           ABAD JR,  VICENTE M             CIVIL ENGINEER IV   \n",
        "18     ABDUL-KARIM,  MUHAMMAD A     ENGINEERING TECHNICIAN VI   \n",
        "20             ABDULLAH,  KEVIN                    LIEUTENANT   \n",
        "28       ABOUELKHEIR,  HASSAN A     SENIOR PROGRAMMER/ANALYST   \n",
        "...                         ...                           ...   \n",
        "32128           ZOTTA,  SANDINO        MECHANICAL ENGINEER IV   \n",
        "32130         ZOVKO,  RICHARD A  HOISTING ENGINEER - MECHANIC   \n",
        "32158            ZUPAN,  BILL M                LIEUTENANT-EMT   \n",
        "32180       ZYSKOWSKI,  DARIUSZ       CHIEF DATA BASE ANALYST   \n",
        "\n",
        "             Department  Employee Annual Salary  \n",
        "4           WATER MGMNT                  104736  \n",
        "18          WATER MGMNT                  106104  \n",
        "20                 FIRE                  110370  \n",
        "28                 DoIT                  104736  \n",
        "...                 ...                     ...  \n",
        "32128       WATER MGMNT                  104736  \n",
        "32130  GENERAL SERVICES                  104208  \n",
        "32158              FIRE                  106524  \n",
        "32180              DoIT                  110352  \n",
        "\n",
        "[3919 rows x 4 columns]"
       ]
      }
     ],
     "prompt_number": 40
    },
    {
     "cell_type": "code",
     "collapsed": false,
     "input": [
      "# Parentheses are essential for logical operations like below!\n",
      "over100k_and_police = (df['Employee Annual Salary'] > 100000) & (df['Department'] == 'POLICE')\n",
      "print(over100k_and_police)"
     ],
     "language": "python",
     "metadata": {},
     "outputs": [
      {
       "output_type": "stream",
       "stream": "stdout",
       "text": [
        "0        False\n",
        "1        False\n",
        "2        False\n",
        "3        False\n",
        "         ...  \n",
        "32177    False\n",
        "32178    False\n",
        "32179    False\n",
        "32180    False\n",
        "dtype: bool\n"
       ]
      }
     ],
     "prompt_number": 41
    },
    {
     "cell_type": "code",
     "collapsed": false,
     "input": [
      "df[over100k_and_police]"
     ],
     "language": "python",
     "metadata": {},
     "outputs": [
      {
       "html": [
        "<div style=\"max-width:1500px;overflow:auto;\">\n",
        "<table border=\"1\" class=\"dataframe\">\n",
        "  <thead>\n",
        "    <tr style=\"text-align: right;\">\n",
        "      <th></th>\n",
        "      <th>Name</th>\n",
        "      <th>Position Title</th>\n",
        "      <th>Department</th>\n",
        "      <th>Employee Annual Salary</th>\n",
        "    </tr>\n",
        "  </thead>\n",
        "  <tbody>\n",
        "    <tr>\n",
        "      <th>152</th>\n",
        "      <td>ADDUCI,  MARK A</td>\n",
        "      <td>LIEUTENANT</td>\n",
        "      <td>POLICE</td>\n",
        "      <td>120264</td>\n",
        "    </tr>\n",
        "    <tr>\n",
        "      <th>156</th>\n",
        "      <td>ADE,  JAMES P</td>\n",
        "      <td>SERGEANT</td>\n",
        "      <td>POLICE</td>\n",
        "      <td>110370</td>\n",
        "    </tr>\n",
        "    <tr>\n",
        "      <th>178</th>\n",
        "      <td>ADRIAN,  CHERI A</td>\n",
        "      <td>SERGEANT</td>\n",
        "      <td>POLICE</td>\n",
        "      <td>106920</td>\n",
        "    </tr>\n",
        "    <tr>\n",
        "      <th>190</th>\n",
        "      <td>AGRON,  EDUARDO</td>\n",
        "      <td>SERGEANT</td>\n",
        "      <td>POLICE</td>\n",
        "      <td>106920</td>\n",
        "    </tr>\n",
        "    <tr>\n",
        "      <th>...</th>\n",
        "      <td>...</td>\n",
        "      <td>...</td>\n",
        "      <td>...</td>\n",
        "      <td>...</td>\n",
        "    </tr>\n",
        "    <tr>\n",
        "      <th>32034</th>\n",
        "      <td>ZELITZKY,  ADAM R</td>\n",
        "      <td>SERGEANT</td>\n",
        "      <td>POLICE</td>\n",
        "      <td>110370</td>\n",
        "    </tr>\n",
        "    <tr>\n",
        "      <th>32037</th>\n",
        "      <td>ZEMEK,  HELEN O</td>\n",
        "      <td>LIEUTENANT</td>\n",
        "      <td>POLICE</td>\n",
        "      <td>120264</td>\n",
        "    </tr>\n",
        "    <tr>\n",
        "      <th>32065</th>\n",
        "      <td>ZIC SCHLOMAS,  VIRGINIA M</td>\n",
        "      <td>SERGEANT</td>\n",
        "      <td>POLICE</td>\n",
        "      <td>110370</td>\n",
        "    </tr>\n",
        "    <tr>\n",
        "      <th>32115</th>\n",
        "      <td>ZODO,  NICOLA E</td>\n",
        "      <td>SERGEANT</td>\n",
        "      <td>POLICE</td>\n",
        "      <td>103590</td>\n",
        "    </tr>\n",
        "  </tbody>\n",
        "</table>\n",
        "<p>1493 rows \u00d7 4 columns</p>\n",
        "</div>"
       ],
       "metadata": {},
       "output_type": "pyout",
       "prompt_number": 42,
       "text": [
        "                            Name Position Title Department  \\\n",
        "152              ADDUCI,  MARK A     LIEUTENANT     POLICE   \n",
        "156                ADE,  JAMES P       SERGEANT     POLICE   \n",
        "178             ADRIAN,  CHERI A       SERGEANT     POLICE   \n",
        "190              AGRON,  EDUARDO       SERGEANT     POLICE   \n",
        "...                          ...            ...        ...   \n",
        "32034          ZELITZKY,  ADAM R       SERGEANT     POLICE   \n",
        "32037            ZEMEK,  HELEN O     LIEUTENANT     POLICE   \n",
        "32065  ZIC SCHLOMAS,  VIRGINIA M       SERGEANT     POLICE   \n",
        "32115            ZODO,  NICOLA E       SERGEANT     POLICE   \n",
        "\n",
        "       Employee Annual Salary  \n",
        "152                    120264  \n",
        "156                    110370  \n",
        "178                    106920  \n",
        "190                    106920  \n",
        "...                       ...  \n",
        "32034                  110370  \n",
        "32037                  120264  \n",
        "32065                  110370  \n",
        "32115                  103590  \n",
        "\n",
        "[1493 rows x 4 columns]"
       ]
      }
     ],
     "prompt_number": 42
    }
   ],
   "metadata": {}
  }
 ]
}